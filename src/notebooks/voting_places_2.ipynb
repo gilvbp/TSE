{
 "cells": [
  {
   "cell_type": "markdown",
   "metadata": {
    "id": "jdMvGH-v8Z-V"
   },
   "source": [
    "# Configuration / Setup\n"
   ]
  },
  {
   "cell_type": "code",
   "execution_count": 1,
   "metadata": {
    "id": "Y_jFaAfRJpYC",
    "ExecuteTime": {
     "start_time": "2023-03-24T15:59:04.047241Z",
     "end_time": "2023-03-24T15:59:04.565452Z"
    }
   },
   "outputs": [],
   "source": [
    "import pandas as pd\n",
    "import numpy as np\n",
    "import requests\n",
    "import zipfile\n",
    "import json\n",
    "import io\n",
    "import time\n",
    "import os\n",
    "import urllib.parse\n",
    "import locale\n",
    "from tqdm.notebook import tqdm\n",
    "from pandas.api.types import union_categoricals\n",
    "\n",
    "\n",
    "pd.options.display.max_columns = None"
   ]
  },
  {
   "cell_type": "code",
   "execution_count": 2,
   "outputs": [
    {
     "data": {
      "text/plain": "'\\n**$df = read_csv_url(\"https://cdn.tse.jus.br/estatistica/sead/odsele/eleitorado_locais_votacao/eleitorado_local_votacao_2022.zip\",\\n                      dtype={\\n                            \"DS_ELEICAO\": pd.CategoricalDtype(),\\n                            \"NR_TURNO\": pd.CategoricalDtype(),\\n                            \"SG_UF\": pd.CategoricalDtype(),\\n                            \"CD_MUNICIPIO\": pd.CategoricalDtype(),\\n                            \"NM_MUNICIPIO\": pd.CategoricalDtype(),\\n                            \"NR_ZONA\": pd.CategoricalDtype(),\\n                            \"NR_SECAO\": pd.CategoricalDtype(),\\n\\n                            \"CD_TIPO_SECAO_AGREGADA\": pd.CategoricalDtype(),\\n                            \"DS_TIPO_SECAO_AGREGADA\": pd.CategoricalDtype(),\\n                            \"NR_SECAO_PRINCIPAL\": pd.CategoricalDtype(),\\n\\n                            \"NR_LOCAL_VOTACAO\": pd.CategoricalDtype(),\\n                            \"NM_LOCAL_VOTACAO\": pd.CategoricalDtype(),\\n\\n                            \"CD_TIPO_LOCAL\": pd.CategoricalDtype(),\\n                            \"DS_TIPO_LOCAL\": pd.CategoricalDtype(),\\n                            \"DS_ENDERECO\": pd.CategoricalDtype(),\\n                            \"NM_BAIRRO\": pd.CategoricalDtype(),\\n                            \"NR_CEP\": pd.CategoricalDtype(),\\n                            \"NR_TELEFONE_LOCAL\": pd.CategoricalDtype(),\\n                            \"NR_LATITUDE\": np.float64,\\n                            \"NR_LONGITUDE\": np.float64,\\n                            \"CD_SITU_LOCAL_VOTACAO\": pd.CategoricalDtype(),\\n                            \"DS_SITU_LOCAL_VOTACAO\": pd.CategoricalDtype(),\\n                            \"CD_SITU_ZONA\": pd.CategoricalDtype(),\\n                            \"DS_SITU_ZONA\": pd.CategoricalDtype(),\\n                            \"CD_SITU_SECAO\": pd.CategoricalDtype(),\\n                            \"DS_SITU_SECAO\": pd.CategoricalDtype(),\\n                            \"CD_SITU_LOCALIDADE\": pd.CategoricalDtype(),\\n                            \"DS_SITU_LOCALIDADE\": pd.CategoricalDtype(),\\n                            \"CD_SITU_SECAO_ACESSIBILIDADE\": pd.CategoricalDtype(),\\n                            \"DS_SITU_SECAO_ACESSIBILIDADE\": pd.CategoricalDtype(),\\n                            \"QT_ELEITOR_SECAO\": pd.Int64Dtype(),\\n                            \"QT_ELEITOR_ELEICAO_FEDERAL\": pd.Int64Dtype(),\\n                            \"QT_ELEITOR_ELEICAO_ESTADUAL\": pd.Int64Dtype(),\\n                            \"QT_ELEITOR_ELEICAO_MUNICIPAL\": pd.Int64Dtype()\\n                        }\\n                  )\\n'"
     },
     "execution_count": 2,
     "metadata": {},
     "output_type": "execute_result"
    }
   ],
   "source": [
    "'''\n",
    "**$df = read_csv_url(\"https://cdn.tse.jus.br/estatistica/sead/odsele/eleitorado_locais_votacao/eleitorado_local_votacao_2022.zip\",\n",
    "                      dtype={\n",
    "                            \"DS_ELEICAO\": pd.CategoricalDtype(),\n",
    "                            \"NR_TURNO\": pd.CategoricalDtype(),\n",
    "                            \"SG_UF\": pd.CategoricalDtype(),\n",
    "                            \"CD_MUNICIPIO\": pd.CategoricalDtype(),\n",
    "                            \"NM_MUNICIPIO\": pd.CategoricalDtype(),\n",
    "                            \"NR_ZONA\": pd.CategoricalDtype(),\n",
    "                            \"NR_SECAO\": pd.CategoricalDtype(),\n",
    "\n",
    "                            \"CD_TIPO_SECAO_AGREGADA\": pd.CategoricalDtype(),\n",
    "                            \"DS_TIPO_SECAO_AGREGADA\": pd.CategoricalDtype(),\n",
    "                            \"NR_SECAO_PRINCIPAL\": pd.CategoricalDtype(),\n",
    "\n",
    "                            \"NR_LOCAL_VOTACAO\": pd.CategoricalDtype(),\n",
    "                            \"NM_LOCAL_VOTACAO\": pd.CategoricalDtype(),\n",
    "\n",
    "                            \"CD_TIPO_LOCAL\": pd.CategoricalDtype(),\n",
    "                            \"DS_TIPO_LOCAL\": pd.CategoricalDtype(),\n",
    "                            \"DS_ENDERECO\": pd.CategoricalDtype(),\n",
    "                            \"NM_BAIRRO\": pd.CategoricalDtype(),\n",
    "                            \"NR_CEP\": pd.CategoricalDtype(),\n",
    "                            \"NR_TELEFONE_LOCAL\": pd.CategoricalDtype(),\n",
    "                            \"NR_LATITUDE\": np.float64,\n",
    "                            \"NR_LONGITUDE\": np.float64,\n",
    "                            \"CD_SITU_LOCAL_VOTACAO\": pd.CategoricalDtype(),\n",
    "                            \"DS_SITU_LOCAL_VOTACAO\": pd.CategoricalDtype(),\n",
    "                            \"CD_SITU_ZONA\": pd.CategoricalDtype(),\n",
    "                            \"DS_SITU_ZONA\": pd.CategoricalDtype(),\n",
    "                            \"CD_SITU_SECAO\": pd.CategoricalDtype(),\n",
    "                            \"DS_SITU_SECAO\": pd.CategoricalDtype(),\n",
    "                            \"CD_SITU_LOCALIDADE\": pd.CategoricalDtype(),\n",
    "                            \"DS_SITU_LOCALIDADE\": pd.CategoricalDtype(),\n",
    "                            \"CD_SITU_SECAO_ACESSIBILIDADE\": pd.CategoricalDtype(),\n",
    "                            \"DS_SITU_SECAO_ACESSIBILIDADE\": pd.CategoricalDtype(),\n",
    "                            \"QT_ELEITOR_SECAO\": pd.Int64Dtype(),\n",
    "                            \"QT_ELEITOR_ELEICAO_FEDERAL\": pd.Int64Dtype(),\n",
    "                            \"QT_ELEITOR_ELEICAO_ESTADUAL\": pd.Int64Dtype(),\n",
    "                            \"QT_ELEITOR_ELEICAO_MUNICIPAL\": pd.Int64Dtype()\n",
    "                        }\n",
    "                  )\n",
    "'''\n"
   ],
   "metadata": {
    "collapsed": false,
    "ExecuteTime": {
     "start_time": "2023-03-24T15:59:04.425941Z",
     "end_time": "2023-03-24T15:59:04.718222Z"
    }
   }
  },
  {
   "cell_type": "code",
   "execution_count": 3,
   "metadata": {
    "id": "kVOUqT2aKSw7",
    "ExecuteTime": {
     "start_time": "2023-03-24T15:59:04.430037Z",
     "end_time": "2023-03-24T15:59:04.718511Z"
    }
   },
   "outputs": [],
   "source": [
    "BR_STATES = [ \n",
    "    \"AC\", \"AL\", \"AM\", \"AP\", \"BA\", \"CE\", \"DF\", \"ES\", \"GO\", \"MA\", \"MG\", \n",
    "    \"MS\", \"MT\", \"PA\", \"PB\", \"PE\", \"PI\", \"PR\", \"RJ\", \"RN\", \"RO\", \"RR\", \n",
    "    \"RS\", \"SC\", \"SE\", \"SP\", \"TO\"]\n",
    "\n",
    "BR_VOTING_STATES = BR_STATES + [\"ZZ\"]\n",
    "\n",
    "\n",
    "DOWNLOAD_DIR = \"data/download\"\n",
    "TEMP_DIR = \"data/temp\"\n",
    "OUTPUT_DIR = \"data/output\"\n",
    "\n",
    "os.makedirs(DOWNLOAD_DIR, exist_ok=True)\n",
    "os.makedirs(TEMP_DIR, exist_ok=True)\n",
    "os.makedirs(OUTPUT_DIR, exist_ok=True)\n",
    "\n",
    "# Mount Google Drive, put a mapbox token file\n",
    "# from google.colab import drive\n",
    "# drive.mount('/drive')\n",
    "# px.set_mapbox_access_token(open(\"drive/MyDrive/Keys/.mapbox_token\").read())"
   ]
  },
  {
   "cell_type": "markdown",
   "metadata": {
    "id": "2SH3fiwk8g87"
   },
   "source": [
    "# Utils"
   ]
  },
  {
   "cell_type": "markdown",
   "metadata": {
    "id": "Zr0aeFP48-f2"
   },
   "source": [
    "## TSE"
   ]
  },
  {
   "cell_type": "markdown",
   "metadata": {
    "id": "bBAFBQ5y916M"
   },
   "source": [
    "Utils to directly open the TSE datasets"
   ]
  },
  {
   "cell_type": "code",
   "execution_count": 4,
   "metadata": {
    "id": "eyfGTweMYB_i",
    "ExecuteTime": {
     "start_time": "2023-03-24T15:59:04.453970Z",
     "end_time": "2023-03-24T15:59:04.718646Z"
    }
   },
   "outputs": [],
   "source": [
    "def get_zip_content(file, filename = None):\n",
    "    with zipfile.ZipFile(file) as z:\n",
    "        if filename == None:\n",
    "            filename = next(f for f in z.namelist() if os.path.splitext(f)[1] == \".csv\")\n",
    "        with z.open(filename) as f:\n",
    "            return io.BytesIO(f.read())\n",
    "\n",
    "# The zips have many files inside and CDN requires a custom agent\n",
    "def wrap_zip_request(url: str, filename = None):\n",
    "    zipname = os.path.basename(urllib.parse.urlparse(url).path.strip(\"/\"))\n",
    "    download_path = os.path.join(DOWNLOAD_DIR, zipname)\n",
    "    try:\n",
    "        return get_zip_content(download_path, filename)\n",
    "    except (FileNotFoundError, zipfile.BadZipFile):\n",
    "        retries = 0\n",
    "        while retries < 5:\n",
    "            try:\n",
    "                with requests.get(url, headers={\"User-Agent\": \"Mozilla\"}) as r:\n",
    "                    r.raise_for_status()\n",
    "                    result = get_zip_content(io.BytesIO(r.content), filename)\n",
    "                    with open(download_path, \"wb\") as f:\n",
    "                        f.write(r.content)\n",
    "                    return result\n",
    "            except requests.exceptions.ConnectionError as ex:\n",
    "                print(f\"Request for {url} failed: {ex}, retrying...\")\n",
    "                time.sleep(2)\n",
    "                retries += 1\n",
    "\n",
    "def read_csv_url(url, *args, **kwargs):\n",
    "    return pd.read_csv(wrap_zip_request(url), encoding=\"latin_1\", sep=\";\", \n",
    "                       dayfirst=True, infer_datetime_format=True, na_values=[\"#NULO#\", \"#NE#\", -1, -3], *args, **kwargs)\n",
    "    \n",
    "def read_json_url(url):\n",
    "    with requests.get(url, headers={\"User-Agent\": \"Mozilla\"}) as r:\n",
    "        return r.json()\n"
   ]
  },
  {
   "cell_type": "markdown",
   "metadata": {
    "id": "Vg0Vj9Bn-CZq"
   },
   "source": [
    "Voting machine web bulletin helpers"
   ]
  },
  {
   "cell_type": "code",
   "execution_count": 5,
   "metadata": {
    "id": "AMX0RMgU-DFM",
    "ExecuteTime": {
     "start_time": "2023-03-24T15:59:04.495010Z",
     "end_time": "2023-03-24T15:59:04.718783Z"
    }
   },
   "outputs": [],
   "source": [
    "def get_bweb_url(round, state):\n",
    "    round_gen_dt = \"051020221321\" if round == 1 else \"311020221535\"\n",
    "    return f\"https://cdn.tse.jus.br/estatistica/sead/eleicoes/eleicoes2022/buweb/bweb_{round}t_{state}_{round_gen_dt}.zip\"\n",
    "\n",
    "def read_bweb(round, state):\n",
    "    url = get_bweb_url(round, state)\n",
    "    df = read_csv_url(url,\n",
    "                      usecols=list(range(7,45)),\n",
    "                      parse_dates=[\"DT_BU_RECEBIDO\", \"DT_CARGA_URNA_EFETIVADA\", \n",
    "                                   \"DT_ABERTURA\", \"DT_ENCERRAMENTO\", \"DT_EMISSAO_BU\"],\n",
    "                      dtype={\n",
    "                            \"NR_TURNO\": pd.CategoricalDtype(),\n",
    "                            \"CD_ELEICAO\": pd.CategoricalDtype(),\n",
    "                            \"DS_ELEICAO\": pd.CategoricalDtype(),                             \n",
    "                            \"SG_UF\": pd.CategoricalDtype(),\n",
    "                            \"CD_MUNICIPIO\": pd.CategoricalDtype(),\n",
    "                            \"NM_MUNICIPIO\": pd.CategoricalDtype(),\n",
    "                            \"NR_ZONA\": pd.CategoricalDtype(),\n",
    "                            \"NR_SECAO\": pd.CategoricalDtype(),\n",
    "                            \"NR_LOCAL_VOTACAO\": pd.CategoricalDtype(),\n",
    "                            \"CD_CARGO_PERGUNTA\": pd.CategoricalDtype(),\n",
    "                            \"DS_CARGO_PERGUNTA\": pd.CategoricalDtype(),\n",
    "                            \"NR_PARTIDO\": pd.CategoricalDtype(),\n",
    "                            \"SG_PARTIDO\": pd.CategoricalDtype(),\n",
    "                            \"NM_PARTIDO\": pd.CategoricalDtype(),\n",
    "                            \"QT_APTOS\": pd.Int64Dtype(),\n",
    "                            \"QT_COMPARECIMENTO\": pd.Int64Dtype(),\n",
    "                            \"QT_ABSTENCOES\": pd.Int64Dtype(),\n",
    "                            \"CD_TIPO_URNA\": pd.CategoricalDtype(),\n",
    "                            \"DS_TIPO_URNA\": pd.CategoricalDtype(),\n",
    "                            \"CD_TIPO_VOTAVEL\": pd.CategoricalDtype(),\n",
    "                            \"DS_TIPO_VOTAVEL\": pd.CategoricalDtype(),\n",
    "                            \"NR_VOTAVEL\": pd.CategoricalDtype(),\n",
    "                            \"NM_VOTAVEL\": pd.CategoricalDtype(),\n",
    "                            \"QT_VOTOS\": pd.Int64Dtype(),\n",
    "                            \"NR_URNA_EFETIVADA\": pd.CategoricalDtype(),\n",
    "                            \"CD_CARGA_1_URNA_EFETIVADA\": pd.CategoricalDtype(),\n",
    "                            \"CD_CARGA_2_URNA_EFETIVADA\": pd.CategoricalDtype(),\n",
    "                            \"CD_FLASHCARD_URNA_EFETIVADA\": pd.CategoricalDtype(),\n",
    "                            \"DS_CARGO_PERGUNTA_SECAO\": pd.CategoricalDtype(),\n",
    "                            \"DS_AGREGADAS\": pd.CategoricalDtype(),\n",
    "                            \"QT_ELEITORES_BIOMETRIA_NH\": pd.Int64Dtype(),\n",
    "                            \"NR_JUNTA_APURADORA\": pd.CategoricalDtype(),\n",
    "                            \"NR_TURMA_APURADORA\": pd.CategoricalDtype(),\n",
    "                    }\n",
    "                )\n",
    "    return df  "
   ]
  },
  {
   "cell_type": "markdown",
   "metadata": {
    "id": "QxjXJVl0brWJ"
   },
   "source": [
    "Voting places helpers"
   ]
  },
  {
   "cell_type": "code",
   "execution_count": 6,
   "metadata": {
    "id": "J-rxfwUVY1DW",
    "ExecuteTime": {
     "start_time": "2023-03-24T15:59:04.495223Z",
     "end_time": "2023-03-24T15:59:04.718983Z"
    }
   },
   "outputs": [],
   "source": [
    "def read_voting_places():\n",
    "    df = read_csv_url(\"https://cdn.tse.jus.br/estatistica/sead/odsele/eleitorado_locais_votacao/eleitorado_local_votacao_2022.zip\",\n",
    "                      dtype={\n",
    "                            \"DS_ELEICAO\": pd.CategoricalDtype(),\n",
    "                            \"NR_TURNO\": pd.CategoricalDtype(),\n",
    "                            \"SG_UF\": pd.CategoricalDtype(),\n",
    "                            \"CD_MUNICIPIO\": pd.CategoricalDtype(),\n",
    "                            \"NM_MUNICIPIO\": pd.CategoricalDtype(),\n",
    "                            \"NR_ZONA\": pd.CategoricalDtype(),\n",
    "                            \"NR_SECAO\": pd.CategoricalDtype(),\n",
    "                             \n",
    "                            \"CD_TIPO_SECAO_AGREGADA\": pd.CategoricalDtype(),\n",
    "                            \"DS_TIPO_SECAO_AGREGADA\": pd.CategoricalDtype(),\n",
    "                            \"NR_SECAO_PRINCIPAL\": pd.CategoricalDtype(),\n",
    "                             \n",
    "                            \"NR_LOCAL_VOTACAO\": pd.CategoricalDtype(),\n",
    "                            \"NM_LOCAL_VOTACAO\": pd.CategoricalDtype(),\n",
    "                                                         \n",
    "                            \"CD_TIPO_LOCAL\": pd.CategoricalDtype(),\n",
    "                            \"DS_TIPO_LOCAL\": pd.CategoricalDtype(),\n",
    "                            \"DS_ENDERECO\": pd.CategoricalDtype(),\n",
    "                            \"NM_BAIRRO\": pd.CategoricalDtype(),\n",
    "                            \"NR_CEP\": pd.CategoricalDtype(),\n",
    "                            \"NR_TELEFONE_LOCAL\": pd.CategoricalDtype(),\n",
    "                            \"NR_LATITUDE\": np.float64,\n",
    "                            \"NR_LONGITUDE\": np.float64,\n",
    "                            \"CD_SITU_LOCAL_VOTACAO\": pd.CategoricalDtype(),\n",
    "                            \"DS_SITU_LOCAL_VOTACAO\": pd.CategoricalDtype(),\n",
    "                            \"CD_SITU_ZONA\": pd.CategoricalDtype(),\n",
    "                            \"DS_SITU_ZONA\": pd.CategoricalDtype(),\n",
    "                            \"CD_SITU_SECAO\": pd.CategoricalDtype(),\n",
    "                            \"DS_SITU_SECAO\": pd.CategoricalDtype(),\n",
    "                            \"CD_SITU_LOCALIDADE\": pd.CategoricalDtype(),\n",
    "                            \"DS_SITU_LOCALIDADE\": pd.CategoricalDtype(),\n",
    "                            \"CD_SITU_SECAO_ACESSIBILIDADE\": pd.CategoricalDtype(),\n",
    "                            \"DS_SITU_SECAO_ACESSIBILIDADE\": pd.CategoricalDtype(),\n",
    "                            \"QT_ELEITOR_SECAO\": pd.Int64Dtype(),\n",
    "                            \"QT_ELEITOR_ELEICAO_FEDERAL\": pd.Int64Dtype(),\n",
    "                            \"QT_ELEITOR_ELEICAO_ESTADUAL\": pd.Int64Dtype(),\n",
    "                            \"QT_ELEITOR_ELEICAO_MUNICIPAL\": pd.Int64Dtype()\n",
    "                        }\n",
    "                    )\n",
    "    return df  "
   ]
  },
  {
   "cell_type": "code",
   "execution_count": 7,
   "metadata": {
    "id": "zrDfBMnSagLJ",
    "ExecuteTime": {
     "start_time": "2023-03-24T15:59:04.535864Z",
     "end_time": "2023-03-24T15:59:04.719134Z"
    }
   },
   "outputs": [],
   "source": [
    "# Sources: \n",
    "# TSE original dataset\n",
    "# + Base dos Dados (https://basedosdados.org/dataset/br-tse-eleicoes?bdm_table=local_secao)\n",
    "# + Geocode Google Maps Api\n",
    "def read_voting_places_geocode():\n",
    "    # CSV at https://storage.googleapis.com/capyvara_public/tse/geocoded_voting_places_001.csv\n",
    "    return pd.read_parquet(\"https://storage.googleapis.com/capyvara_public/tse/geocoded_voting_places_001.parquet\")"
   ]
  },
  {
   "cell_type": "code",
   "execution_count": 8,
   "metadata": {
    "id": "gT8nDB8tZ5mx",
    "ExecuteTime": {
     "start_time": "2023-03-24T15:59:04.536067Z",
     "end_time": "2023-03-24T15:59:04.719267Z"
    }
   },
   "outputs": [],
   "source": [
    "def read_tse_cities():\n",
    "    def expand_cities(data):\n",
    "        for abr in data[\"abr\"]:\n",
    "            state = abr[\"cd\"]\n",
    "            for mu in abr[\"mu\"]:\n",
    "                city = mu[\"cd\"].lstrip(\"0\")\n",
    "                city_ibge = mu[\"cdi\"].lstrip(\"0\") if len(mu[\"cdi\"]) > 0 else None\n",
    "                name = mu[\"nm\"]\n",
    "                is_capital = mu[\"c\"] == \"S\"\n",
    "                zones = mu[\"z\"]\n",
    "                yield (state, city, city_ibge, name, is_capital, [z.lstrip(\"0\") for z in zones])\n",
    "\n",
    "    url = \"https://resultados.tse.jus.br/oficial/ele2022/545/config/mun-e000545-cm.json\"\n",
    "    data = list(expand_cities(read_json_url(url)))\n",
    "\n",
    "    df = pd.DataFrame(data,\n",
    "                        columns=[\"SG_UF\", \"CD_MUNICIPIO\",\n",
    "                            \"CD_MUNICIPIO_IBGE\", \"NM_MUNICIPIO\", \"MUNICIPIO_CAPITAL\", \"MUNICIPIO_ZONAS\"])\n",
    "\n",
    "    df[\"SG_UF\"] = df[\"SG_UF\"].astype(pd.CategoricalDtype())\n",
    "    df[\"CD_MUNICIPIO\"] = df[\"CD_MUNICIPIO\"].astype(pd.CategoricalDtype())\n",
    "    df[\"CD_MUNICIPIO_IBGE\"] = df[\"CD_MUNICIPIO_IBGE\"].astype(pd.CategoricalDtype())\n",
    "    df[\"NM_MUNICIPIO\"] = df[\"NM_MUNICIPIO\"].astype(pd.CategoricalDtype())\n",
    "    df[\"MUNICIPIO_CAPITAL\"] = df[\"MUNICIPIO_CAPITAL\"].astype(bool)\n",
    "    return df.set_index([\"SG_UF\", \"CD_MUNICIPIO\"]).sort_index()"
   ]
  },
  {
   "cell_type": "markdown",
   "metadata": {
    "id": "bYYAYCl99JA_"
   },
   "source": [
    "## Misc"
   ]
  },
  {
   "cell_type": "code",
   "execution_count": 9,
   "metadata": {
    "id": "8vxWKV7n9SAj",
    "ExecuteTime": {
     "start_time": "2023-03-24T15:59:04.552749Z",
     "end_time": "2023-03-24T15:59:04.719570Z"
    }
   },
   "outputs": [],
   "source": [
    "def concatenate(dfs):\n",
    "    dfs = list(dfs)\n",
    "    \n",
    "    \"\"\"Concatenate while preserving categorical columns.\n",
    "    NB: We change the categories in-place for the input dataframes\"\"\"\n",
    "    for col in set.intersection(\n",
    "        *[\n",
    "            set(df.select_dtypes(include='category').columns)\n",
    "            for df in dfs\n",
    "        ]\n",
    "    ):\n",
    "        uc = union_categoricals([df[col] for df in dfs])\n",
    "        for df in dfs:\n",
    "            df[col] = pd.Categorical(df[col].values, categories=uc.categories)\n",
    "    return pd.concat(dfs)\n",
    "\n",
    "def multiindex_pivot(df, columns=None, values=None):\n",
    "    #https://github.com/pandas-dev/pandas/issues/23955\n",
    "    names = list(df.index.names)\n",
    "    df = df.reset_index()\n",
    "    list_index = df[names].values\n",
    "    tuples_index = [tuple(i) for i in list_index] # hashable\n",
    "    df = df.assign(tuples_index=tuples_index)\n",
    "    df = df.pivot(index=\"tuples_index\", columns=columns, values=values)\n",
    "    tuples_index = df.index  # reduced\n",
    "    index = pd.MultiIndex.from_tuples(tuples_index, names=names)\n",
    "    df.index = index\n",
    "    return df"
   ]
  },
  {
   "cell_type": "markdown",
   "metadata": {
    "id": "0jlPlHy2-lfk"
   },
   "source": [
    "# Prepare voting machine bulletins dataframes"
   ]
  },
  {
   "cell_type": "markdown",
   "metadata": {
    "id": "2DPO3KujsoZb"
   },
   "source": [
    "Cities helpers"
   ]
  },
  {
   "cell_type": "code",
   "execution_count": 10,
   "metadata": {
    "id": "IPetO9OGspJF",
    "ExecuteTime": {
     "start_time": "2023-03-24T15:59:04.572691Z",
     "end_time": "2023-03-24T15:59:05.025214Z"
    }
   },
   "outputs": [],
   "source": [
    "df_cities = read_tse_cities()"
   ]
  },
  {
   "cell_type": "markdown",
   "metadata": {
    "id": "-QwDAXdJ-ZJc"
   },
   "source": [
    "Load all states files and concat "
   ]
  },
  {
   "cell_type": "code",
   "execution_count": 11,
   "metadata": {
    "colab": {
     "base_uri": "https://localhost:8080/",
     "height": 49,
     "referenced_widgets": [
      "d464a10ef95047989150675e43f05d49",
      "70234afc7ba14baaba98f93e8a80200b",
      "df3a69a52499444b91a9413e26377f7a",
      "b3690103efc440fb9dce80ce816cd8e2",
      "9cd0fb8afff84d2fb4516e5f6ac193d8",
      "20519933ff3444858b77f2f34cd84ffa",
      "55ade0e160284115a7a5d7c15140f14f",
      "c2bc487a951a477b82137589529cf721",
      "c40f1c7f80004f31af3e6fdbf39b76f8",
      "b4e0ba8ff47a485aab11ced7b5316c2d",
      "e50dfe400bfa421db3003fc4e89b84ef"
     ]
    },
    "id": "Oet7pJAiPA6N",
    "outputId": "35de72a5-f7c3-4506-f22a-18964695f6a6",
    "ExecuteTime": {
     "start_time": "2023-03-24T15:59:05.011509Z",
     "end_time": "2023-03-24T15:59:46.747631Z"
    }
   },
   "outputs": [
    {
     "data": {
      "text/plain": "  0%|          | 0/28 [00:00<?, ?it/s]",
      "application/vnd.jupyter.widget-view+json": {
       "version_major": 2,
       "version_minor": 0,
       "model_id": "153ec8ef6ddd484098d3bb18719c2c51"
      }
     },
     "metadata": {},
     "output_type": "display_data"
    }
   ],
   "source": [
    "def make_bweb_all():\n",
    "    df = concatenate(tqdm((read_bweb(2, state) for state in BR_VOTING_STATES), total=len(BR_VOTING_STATES)))\n",
    "    df = df.set_index([\"NR_TURNO\", \"SG_UF\", \"NR_ZONA\", \"NR_SECAO\"]).sort_index()\n",
    "    return df\n",
    "\n",
    "df_bweb_all = make_bweb_all()"
   ]
  },
  {
   "cell_type": "markdown",
   "metadata": {
    "id": "UlFrYc5W_CH_"
   },
   "source": [
    "Split pivoted dataframe containing just voting data"
   ]
  },
  {
   "cell_type": "code",
   "execution_count": 12,
   "metadata": {
    "id": "DoiOwhWFmo7b",
    "ExecuteTime": {
     "start_time": "2023-03-24T15:59:46.747404Z",
     "end_time": "2023-03-24T15:59:50.340439Z"
    }
   },
   "outputs": [],
   "source": [
    "def make_president_votes():\n",
    "    df = df_bweb_all[df_bweb_all[\"DS_TIPO_URNA\"] == \"APURADA\"].loc[\"2\"][[\"CD_CARGO_PERGUNTA\", \n",
    "                                \"DS_CARGO_PERGUNTA\", \"CD_TIPO_VOTAVEL\", \"DS_TIPO_VOTAVEL\", \n",
    "                                \"NR_VOTAVEL\", \"NM_VOTAVEL\", \"QT_VOTOS\"]]\n",
    "\n",
    "    df = df[(df[\"CD_CARGO_PERGUNTA\"] == \"1\")]\n",
    "    df = df.pipe(multiindex_pivot, columns=[\"NM_VOTAVEL\"], values=\"QT_VOTOS\").fillna(0)\n",
    "    df.rename(columns={\n",
    "            \"JAIR BOLSONARO\": \"QT_VOTOS_JAIR_BOLSONARO\",\n",
    "            \"LULA\": \"QT_VOTOS_LULA\",\n",
    "            \"Branco\": \"QT_VOTOS_BRANCO\",\n",
    "            \"Nulo\": \"QT_VOTOS_NULO\",\n",
    "            }, inplace=True)\n",
    "    df = df[[\"QT_VOTOS_LULA\", \"QT_VOTOS_JAIR_BOLSONARO\", \"QT_VOTOS_BRANCO\", \"QT_VOTOS_NULO\"]]\n",
    "    df.columns.name = \"\"\n",
    "    return df\n",
    "\n",
    "df_president_votes = make_president_votes()"
   ]
  },
  {
   "cell_type": "markdown",
   "metadata": {
    "id": "SoUrwR0C-4Tc"
   },
   "source": [
    "Split dataframe containing just section-wise data, join with pivoted presidential votes column data\n",
    "\n",
    "Now we have one section per line with the voting info \n"
   ]
  },
  {
   "cell_type": "code",
   "execution_count": 13,
   "metadata": {
    "id": "471LjeBitf3n",
    "ExecuteTime": {
     "start_time": "2023-03-24T15:59:50.143590Z",
     "end_time": "2023-03-24T15:59:50.870974Z"
    }
   },
   "outputs": [],
   "source": [
    "def make_sections():\n",
    "    df = df_bweb_all[df_bweb_all[\"DS_TIPO_URNA\"] == \"APURADA\"].loc[\"2\"][[\"CD_MUNICIPIO\", \"NM_MUNICIPIO\", \"NR_LOCAL_VOTACAO\", \n",
    "                    \"DT_BU_RECEBIDO\", \"QT_APTOS\", \"QT_COMPARECIMENTO\", \"QT_ABSTENCOES\", \"CD_TIPO_URNA\", \"DS_TIPO_URNA\", \n",
    "                    \"NR_URNA_EFETIVADA\", \"CD_FLASHCARD_URNA_EFETIVADA\", \"DS_AGREGADAS\", \"DT_ABERTURA\", \n",
    "                    \"DT_ENCERRAMENTO\", \"QT_ELEITORES_BIOMETRIA_NH\", \n",
    "                    \"DT_EMISSAO_BU\"]]\n",
    "                    \n",
    "    df = df[~df.index.duplicated(keep='first')]\n",
    "    df = df.join(df_president_votes)\n",
    "    return df\n",
    "\n",
    "df_sections = make_sections()"
   ]
  },
  {
   "cell_type": "code",
   "execution_count": 14,
   "metadata": {
    "id": "TMLGMnMb34X2",
    "ExecuteTime": {
     "start_time": "2023-03-24T15:59:50.613014Z",
     "end_time": "2023-03-24T15:59:50.884053Z"
    }
   },
   "outputs": [],
   "source": [
    "# Ensure it matches TSE\n",
    "assert(len(df_sections.groupby(level=[\"SG_UF\", \"NR_ZONA\"], observed=True).size()) == 2637)\n",
    "assert(df_sections[\"QT_VOTOS_LULA\"].sum() == 60345999)\n",
    "assert(df_sections[\"QT_VOTOS_JAIR_BOLSONARO\"].sum() == 58206354)"
   ]
  },
  {
   "cell_type": "markdown",
   "metadata": {
    "id": "qtqF4AqtfbON"
   },
   "source": [
    "# Prepare voting places info"
   ]
  },
  {
   "cell_type": "code",
   "execution_count": 15,
   "metadata": {
    "id": "4liI89mtUYQE"
   },
   "outputs": [
    {
     "ename": "SyntaxError",
     "evalue": "invalid syntax (2890601965.py, line 2)",
     "output_type": "error",
     "traceback": [
      "\u001B[0;36m  Cell \u001B[0;32mIn[15], line 2\u001B[0;36m\u001B[0m\n\u001B[0;31m    df = read_voting_places()x\u001B[0m\n\u001B[0m                             ^\u001B[0m\n\u001B[0;31mSyntaxError\u001B[0m\u001B[0;31m:\u001B[0m invalid syntax\n"
     ]
    }
   ],
   "source": [
    "def make_voting_places_all():\n",
    "    df = read_voting_places()x\n",
    "    print(df.head)\n",
    "    df = df.set_index([\"NR_TURNO\", \"SG_UF\", \"NR_ZONA\", \"NR_SECAO\"]).sort_index()\n",
    "    return df\n",
    "\n",
    "df_voting_places_all = make_voting_places_all()"
   ]
  },
  {
   "cell_type": "markdown",
   "metadata": {
    "id": "s4tCfGwB2Tkz"
   },
   "source": [
    "Group voting places so we have one voting place per line, merge aggregated sections counts"
   ]
  },
  {
   "cell_type": "code",
   "execution_count": null,
   "metadata": {
    "id": "1b6_iHw0fZwc"
   },
   "outputs": [],
   "source": [
    "def make_voting_places():\n",
    "    df = df_voting_places_all.loc[\"2\"].reset_index().set_index([\"CD_MUNICIPIO\", \"NR_ZONA\", \"NR_LOCAL_VOTACAO\"])\n",
    "\n",
    "    df_group = df[[\"QT_ELEITOR_SECAO\", \n",
    "                \"QT_ELEITOR_ELEICAO_FEDERAL\", \n",
    "                \"QT_ELEITOR_ELEICAO_ESTADUAL\", \n",
    "                \"QT_ELEITOR_ELEICAO_MUNICIPAL\"]].groupby(df.index.names, observed=True).agg([\"sum\", \"size\"])\n",
    "\n",
    "    num_sections = df_group[(\"QT_ELEITOR_SECAO\", \"size\")]\n",
    "    num_voters = df_group.xs('sum', axis=1, level=1)\n",
    "\n",
    "    df[\"QT_SECOES\"] = num_sections\n",
    "\n",
    "    # Fix issue: https://github.com/pandas-dev/pandas/issues/4094\n",
    "    df.update(num_voters)\n",
    "    df[\"QT_ELEITOR_SECAO\"] = df[\"QT_ELEITOR_SECAO\"].astype(pd.Int64Dtype())\n",
    "    df[\"QT_ELEITOR_ELEICAO_FEDERAL\"] = df[\"QT_ELEITOR_ELEICAO_FEDERAL\"].astype(pd.Int64Dtype())\n",
    "    df[\"QT_ELEITOR_ELEICAO_ESTADUAL\"] = df[\"QT_ELEITOR_ELEICAO_ESTADUAL\"].astype(pd.Int64Dtype())\n",
    "    df[\"QT_ELEITOR_ELEICAO_MUNICIPAL\"] = df[\"QT_ELEITOR_ELEICAO_MUNICIPAL\"].astype(pd.Int64Dtype())\n",
    "\n",
    "    df_geo = read_voting_places_geocode()\n",
    "    df.update(df_geo)\n",
    "\n",
    "    \n",
    "    df = df[df[\"CD_TIPO_SECAO_AGREGADA\"] == \"1\"]\n",
    "    df = df[~df.index.duplicated(keep='first')]\n",
    "    df = df.sort_index()\n",
    "\n",
    "    df = df.rename(columns={\n",
    "            \"QT_ELEITOR_SECAO\": \"QT_ELEITOR\",\n",
    "            \"CD_SITU_SECAO_ACESSIBILIDADE\": \"CD_SITU_ACESSIBILIDADE\",\n",
    "            \"DS_SITU_SECAO_ACESSIBILIDADE\": \"DS_SITU_ACESSIBILIDADE\",\n",
    "        })\n",
    "\n",
    "    df = df[[\"SG_UF\", \"NM_MUNICIPIO\", \"NM_LOCAL_VOTACAO\", \"CD_TIPO_LOCAL\", \n",
    "                \"DS_TIPO_LOCAL\", \"DS_ENDERECO\", \"NM_BAIRRO\", \"NR_CEP\", \"NR_TELEFONE_LOCAL\", \n",
    "                \"NR_LATITUDE\", \"NR_LONGITUDE\", \"CD_SITU_LOCAL_VOTACAO\", \"DS_SITU_LOCAL_VOTACAO\", \n",
    "                \"CD_SITU_LOCALIDADE\", \"DS_SITU_LOCALIDADE\", \"CD_SITU_ACESSIBILIDADE\", \n",
    "                \"DS_SITU_ACESSIBILIDADE\", \"QT_SECOES\",\n",
    "                \"QT_ELEITOR\", \"QT_ELEITOR_ELEICAO_FEDERAL\", \n",
    "                \"QT_ELEITOR_ELEICAO_ESTADUAL\", \"QT_ELEITOR_ELEICAO_MUNICIPAL\"]]\n",
    "\n",
    "    return df\n",
    "\n",
    "df_voting_places = make_voting_places()"
   ]
  },
  {
   "cell_type": "markdown",
   "metadata": {
    "id": "1qBzkD_k21F6"
   },
   "source": [
    "Some mismatches in voting place id between datasets, update sections with newer from location dataset\n"
   ]
  },
  {
   "cell_type": "code",
   "execution_count": null,
   "metadata": {
    "id": "YK6x6-_YTuoi"
   },
   "outputs": [],
   "source": [
    "def patch_sections_voting_place():\n",
    "    df = df_voting_places_all[df_voting_places_all[\"CD_TIPO_SECAO_AGREGADA\"] == \"1\"].loc[\"2\"].loc[:,\"NR_LOCAL_VOTACAO\"]\n",
    "    df_sections.update(df)\n",
    "\n",
    "patch_sections_voting_place()"
   ]
  },
  {
   "cell_type": "markdown",
   "metadata": {
    "id": "N7s4rGnjr0EQ"
   },
   "source": [
    "# Plots"
   ]
  },
  {
   "cell_type": "code",
   "execution_count": null,
   "metadata": {
    "id": "fP77HRqWeMef"
   },
   "outputs": [],
   "source": [
    "import plotly.graph_objects as go\n",
    "import plotly.express as px\n",
    "from plotly.subplots import make_subplots\n",
    "import plotly.figure_factory as ff\n",
    "\n",
    "pd.options.plotting.backend = \"plotly\"\n",
    "px.defaults.width = 1280\n",
    "px.defaults.height = 720\n",
    "\n",
    "FLIP_PLOTLY_COLORWAY = px.colors.qualitative.Plotly.copy()\n",
    "FLIP_PLOTLY_COLORWAY[0], FLIP_PLOTLY_COLORWAY[1] = FLIP_PLOTLY_COLORWAY[1], FLIP_PLOTLY_COLORWAY[0]\n",
    "\n",
    "def export_fig_html(fig, filename, *args, **kwargs):\n",
    "    # TODO: # <script src=\"https://cdn.plot.ly/plotly-locale-pt-br-latest.js\"></script>\n",
    "    # https://github.com/plotly/plotly.js/tree/master/dist#to-include-localization\n",
    "\n",
    "    fig_copy = go.Figure(fig)\n",
    "    fig_copy.layout.width = None\n",
    "    fig_copy.layout.height = None\n",
    "    #fig_copy.write_html(os.path.join(OUTPUT_DIR, filename), include_plotlyjs=\"cdn\", config={\"locale\": \"pt-BR\", \"scrollZoom\": \"True\"}, *args, **kwargs)\n",
    "    fig_copy.write_html(os.path.join(OUTPUT_DIR, filename), include_plotlyjs=\"cdn\", *args, **kwargs)"
   ]
  },
  {
   "cell_type": "markdown",
   "metadata": {
    "id": "3YSwPuiC26-8"
   },
   "source": [
    "## All voting places, size per quantify of merged sections"
   ]
  },
  {
   "cell_type": "code",
   "execution_count": null,
   "metadata": {
    "colab": {
     "base_uri": "https://localhost:8080/",
     "height": 737
    },
    "id": "RvPYqM6TdI7b",
    "outputId": "86a8337d-63d2-470d-e40b-5390553e1b5b"
   },
   "outputs": [],
   "source": [
    "def voting_places_plot():\n",
    "    fig = px.scatter_mapbox(df_voting_places, \n",
    "                            title=\"Locais de votação 2022\",\n",
    "                            zoom=3, center={\"lat\": -11.44, \"lon\": -52.01},\n",
    "                            lat=\"NR_LATITUDE\", lon=\"NR_LONGITUDE\", \n",
    "                            color=\"QT_SECOES\",\n",
    "                            range_color=[1,60],\n",
    "                            color_continuous_scale=px.colors.sequential.Turbo,\n",
    "                            size=df_voting_places[\"QT_ELEITOR_ELEICAO_FEDERAL\"].astype(\"int\"),\n",
    "                            size_max=20,\n",
    "                            hover_name=\"NM_LOCAL_VOTACAO\", \n",
    "                            hover_data=[\"SG_UF\", \"NM_MUNICIPIO\", \"DS_ENDERECO\", \"NM_BAIRRO\"],\n",
    "                            labels={\n",
    "                                \"size\": \"Eleitores\", \n",
    "                                \"QT_SECOES\": \"Seções\",\n",
    "                                \"NR_LATITUDE\": \"Latitude\",\n",
    "                                \"NR_LONGITUDE\": \"Longitude\",\n",
    "                                \"SG_UF\": \"UF\",\n",
    "                                \"NM_MUNICIPIO\": \"Município\",\n",
    "                                \"NM_BAIRRO\": \"Bairro\",\n",
    "                                \"DS_ENDERECO\": \"Endereço\",\n",
    "                                })\n",
    "    #fig.update_layout(mapbox_style=\"open-street-map\")\n",
    "    fig.update_layout(mapbox_style=\"carto-positron\")\n",
    "    fig.update_traces(marker=dict(sizemin=2))\n",
    "    return fig\n",
    "\n",
    "fig = voting_places_plot()\n",
    "#export_fig_html(fig, \"locais_votacao_2022.html\")\n",
    "fig.show()"
   ]
  },
  {
   "cell_type": "markdown",
   "metadata": {
    "id": "U5wnJCi33LlP"
   },
   "source": [
    "## All voting places results"
   ]
  },
  {
   "cell_type": "code",
   "execution_count": null,
   "metadata": {
    "colab": {
     "base_uri": "https://localhost:8080/",
     "height": 737
    },
    "id": "OccM6er-iUmo",
    "outputId": "8cca4362-96a1-436a-f984-2355c02683bf"
   },
   "outputs": [],
   "source": [
    "def voting_places_results_plot():\n",
    "    df = df_sections.groupby(df_voting_places.index.names, observed=True).sum()\n",
    "    df = df.join(df_voting_places)\n",
    "\n",
    "    df[\"QT_VOTOS_CONCORRENTES\"] = (df[\"QT_VOTOS_LULA\"] + df[\"QT_VOTOS_JAIR_BOLSONARO\"]).astype(int)\n",
    "    df[\"LULA_PE_VOTOS\"] = (df[\"QT_VOTOS_LULA\"] / df[\"QT_VOTOS_CONCORRENTES\"]) * 100\n",
    "    df[\"JAIR_BOLSONARO_PE_VOTOS\"] = (df[\"QT_VOTOS_JAIR_BOLSONARO\"] / df[\"QT_VOTOS_CONCORRENTES\"]) * 100\n",
    "    df[\"DIF_PE_VOTOS\"] = df[\"LULA_PE_VOTOS\"] - df[\"JAIR_BOLSONARO_PE_VOTOS\"]\n",
    "    df[\"ABSTENCOES_PE\"] = (df[\"QT_ABSTENCOES\"] / df[\"QT_APTOS\"]) * 100\n",
    "    df[\"QT_VOTOS_INVALIDOS\"] = df[\"QT_VOTOS_BRANCO\"] + df[\"QT_VOTOS_NULO\"]\n",
    "\n",
    "    fig = px.scatter_mapbox(df, \n",
    "                            title=\"Resultado 2o turno por local de votação 2022 (Lula/Jair Bolsonaro)\",\n",
    "                            zoom=3, center={\"lat\": -11.44, \"lon\": -52.01},\n",
    "                            lat=\"NR_LATITUDE\", lon=\"NR_LONGITUDE\", \n",
    "                            color=\"LULA_PE_VOTOS\",\n",
    "                            color_continuous_scale=px.colors.diverging.balance,\n",
    "                            color_continuous_midpoint=50,\n",
    "                            size=\"QT_VOTOS_CONCORRENTES\",\n",
    "                            size_max=20,\n",
    "                            opacity=0.8,\n",
    "                            hover_name=\"NM_LOCAL_VOTACAO\", \n",
    "                            hover_data={\n",
    "                                \"LULA_PE_VOTOS\": \":.1f\",\n",
    "                                \"QT_VOTOS_LULA\": True,\n",
    "                                \"QT_VOTOS_JAIR_BOLSONARO\": True,\n",
    "                                \"QT_VOTOS_CONCORRENTES\": True,\n",
    "                                \"QT_VOTOS_INVALIDOS\": True,\n",
    "                                \"QT_APTOS\": True,\n",
    "                                \"QT_ABSTENCOES\": True,\n",
    "                                \"ABSTENCOES_PE\": \":.1f\",\n",
    "                                \"QT_SECOES\": True,\n",
    "                                \"NR_LATITUDE\": False,\n",
    "                                \"NR_LONGITUDE\": False,\n",
    "                                \"SG_UF\": True,\n",
    "                                \"NM_MUNICIPIO\": True,\n",
    "                                \"NM_BAIRRO\": True,\n",
    "                                \"DS_ENDERECO\": True,\n",
    "                            },\n",
    "                            labels={\n",
    "                                \"DIF_PE_VOTOS\": \"Dif. %\",\n",
    "                                \"LULA_PE_VOTOS\": \"Lula %\",\n",
    "                                \"QT_VOTOS_LULA\": \"Votos Lula\",\n",
    "                                \"QT_VOTOS_JAIR_BOLSONARO\": \"Votos Jair Bolsonaro\",\n",
    "                                \"QT_VOTOS_CONCORRENTES\": \"Votos válidos\", \n",
    "                                \"QT_VOTOS_INVALIDOS\": \"Votos nulo/branco\",\n",
    "                                \"QT_APTOS\": \"Eleitores aptos\",\n",
    "                                \"QT_ABSTENCOES\": \"Eleitores ausentes\",\n",
    "                                \"ABSTENCOES_PE\": \"Abstenção %\",\n",
    "                                \"QT_SECOES\": \"Seções\",\n",
    "                                \"SG_UF\": \"UF\",\n",
    "                                \"NM_MUNICIPIO\": \"Município\",\n",
    "                                \"NM_BAIRRO\": \"Bairro\",\n",
    "                                \"DS_ENDERECO\": \"Endereço\",\n",
    "                                })\n",
    "    #fig.update_layout(mapbox_style=\"open-street-map\")\n",
    "    fig.update_layout(mapbox_style=\"carto-positron\")\n",
    "    fig.update_traces(marker=dict(sizemin=2))\n",
    "    return fig\n",
    "\n",
    "fig = voting_places_results_plot()\n",
    "#export_fig_html(fig, \"locais_votacao_resultados_2022.html\")\n",
    "fig.show()"
   ]
  }
 ],
 "metadata": {
  "colab": {
   "provenance": [],
   "toc_visible": true
  },
  "kernelspec": {
   "display_name": "Python 3 (ipykernel)",
   "language": "python",
   "name": "python3"
  },
  "language_info": {
   "codemirror_mode": {
    "name": "ipython",
    "version": 3
   },
   "file_extension": ".py",
   "mimetype": "text/x-python",
   "name": "python",
   "nbconvert_exporter": "python",
   "pygments_lexer": "ipython3",
   "version": "3.10.8"
  },
  "widgets": {
   "application/vnd.jupyter.widget-state+json": {
    "20519933ff3444858b77f2f34cd84ffa": {
     "model_module": "@jupyter-widgets/base",
     "model_module_version": "1.2.0",
     "model_name": "LayoutModel",
     "state": {
      "_model_module": "@jupyter-widgets/base",
      "_model_module_version": "1.2.0",
      "_model_name": "LayoutModel",
      "_view_count": null,
      "_view_module": "@jupyter-widgets/base",
      "_view_module_version": "1.2.0",
      "_view_name": "LayoutView",
      "align_content": null,
      "align_items": null,
      "align_self": null,
      "border": null,
      "bottom": null,
      "display": null,
      "flex": null,
      "flex_flow": null,
      "grid_area": null,
      "grid_auto_columns": null,
      "grid_auto_flow": null,
      "grid_auto_rows": null,
      "grid_column": null,
      "grid_gap": null,
      "grid_row": null,
      "grid_template_areas": null,
      "grid_template_columns": null,
      "grid_template_rows": null,
      "height": null,
      "justify_content": null,
      "justify_items": null,
      "left": null,
      "margin": null,
      "max_height": null,
      "max_width": null,
      "min_height": null,
      "min_width": null,
      "object_fit": null,
      "object_position": null,
      "order": null,
      "overflow": null,
      "overflow_x": null,
      "overflow_y": null,
      "padding": null,
      "right": null,
      "top": null,
      "visibility": null,
      "width": null
     }
    },
    "55ade0e160284115a7a5d7c15140f14f": {
     "model_module": "@jupyter-widgets/controls",
     "model_module_version": "1.5.0",
     "model_name": "DescriptionStyleModel",
     "state": {
      "_model_module": "@jupyter-widgets/controls",
      "_model_module_version": "1.5.0",
      "_model_name": "DescriptionStyleModel",
      "_view_count": null,
      "_view_module": "@jupyter-widgets/base",
      "_view_module_version": "1.2.0",
      "_view_name": "StyleView",
      "description_width": ""
     }
    },
    "70234afc7ba14baaba98f93e8a80200b": {
     "model_module": "@jupyter-widgets/controls",
     "model_module_version": "1.5.0",
     "model_name": "HTMLModel",
     "state": {
      "_dom_classes": [],
      "_model_module": "@jupyter-widgets/controls",
      "_model_module_version": "1.5.0",
      "_model_name": "HTMLModel",
      "_view_count": null,
      "_view_module": "@jupyter-widgets/controls",
      "_view_module_version": "1.5.0",
      "_view_name": "HTMLView",
      "description": "",
      "description_tooltip": null,
      "layout": "IPY_MODEL_20519933ff3444858b77f2f34cd84ffa",
      "placeholder": "​",
      "style": "IPY_MODEL_55ade0e160284115a7a5d7c15140f14f",
      "value": "100%"
     }
    },
    "9cd0fb8afff84d2fb4516e5f6ac193d8": {
     "model_module": "@jupyter-widgets/base",
     "model_module_version": "1.2.0",
     "model_name": "LayoutModel",
     "state": {
      "_model_module": "@jupyter-widgets/base",
      "_model_module_version": "1.2.0",
      "_model_name": "LayoutModel",
      "_view_count": null,
      "_view_module": "@jupyter-widgets/base",
      "_view_module_version": "1.2.0",
      "_view_name": "LayoutView",
      "align_content": null,
      "align_items": null,
      "align_self": null,
      "border": null,
      "bottom": null,
      "display": null,
      "flex": null,
      "flex_flow": null,
      "grid_area": null,
      "grid_auto_columns": null,
      "grid_auto_flow": null,
      "grid_auto_rows": null,
      "grid_column": null,
      "grid_gap": null,
      "grid_row": null,
      "grid_template_areas": null,
      "grid_template_columns": null,
      "grid_template_rows": null,
      "height": null,
      "justify_content": null,
      "justify_items": null,
      "left": null,
      "margin": null,
      "max_height": null,
      "max_width": null,
      "min_height": null,
      "min_width": null,
      "object_fit": null,
      "object_position": null,
      "order": null,
      "overflow": null,
      "overflow_x": null,
      "overflow_y": null,
      "padding": null,
      "right": null,
      "top": null,
      "visibility": null,
      "width": null
     }
    },
    "b3690103efc440fb9dce80ce816cd8e2": {
     "model_module": "@jupyter-widgets/controls",
     "model_module_version": "1.5.0",
     "model_name": "HTMLModel",
     "state": {
      "_dom_classes": [],
      "_model_module": "@jupyter-widgets/controls",
      "_model_module_version": "1.5.0",
      "_model_name": "HTMLModel",
      "_view_count": null,
      "_view_module": "@jupyter-widgets/controls",
      "_view_module_version": "1.5.0",
      "_view_name": "HTMLView",
      "description": "",
      "description_tooltip": null,
      "layout": "IPY_MODEL_b4e0ba8ff47a485aab11ced7b5316c2d",
      "placeholder": "​",
      "style": "IPY_MODEL_e50dfe400bfa421db3003fc4e89b84ef",
      "value": " 28/28 [02:38&lt;00:00,  7.31s/it]"
     }
    },
    "b4e0ba8ff47a485aab11ced7b5316c2d": {
     "model_module": "@jupyter-widgets/base",
     "model_module_version": "1.2.0",
     "model_name": "LayoutModel",
     "state": {
      "_model_module": "@jupyter-widgets/base",
      "_model_module_version": "1.2.0",
      "_model_name": "LayoutModel",
      "_view_count": null,
      "_view_module": "@jupyter-widgets/base",
      "_view_module_version": "1.2.0",
      "_view_name": "LayoutView",
      "align_content": null,
      "align_items": null,
      "align_self": null,
      "border": null,
      "bottom": null,
      "display": null,
      "flex": null,
      "flex_flow": null,
      "grid_area": null,
      "grid_auto_columns": null,
      "grid_auto_flow": null,
      "grid_auto_rows": null,
      "grid_column": null,
      "grid_gap": null,
      "grid_row": null,
      "grid_template_areas": null,
      "grid_template_columns": null,
      "grid_template_rows": null,
      "height": null,
      "justify_content": null,
      "justify_items": null,
      "left": null,
      "margin": null,
      "max_height": null,
      "max_width": null,
      "min_height": null,
      "min_width": null,
      "object_fit": null,
      "object_position": null,
      "order": null,
      "overflow": null,
      "overflow_x": null,
      "overflow_y": null,
      "padding": null,
      "right": null,
      "top": null,
      "visibility": null,
      "width": null
     }
    },
    "c2bc487a951a477b82137589529cf721": {
     "model_module": "@jupyter-widgets/base",
     "model_module_version": "1.2.0",
     "model_name": "LayoutModel",
     "state": {
      "_model_module": "@jupyter-widgets/base",
      "_model_module_version": "1.2.0",
      "_model_name": "LayoutModel",
      "_view_count": null,
      "_view_module": "@jupyter-widgets/base",
      "_view_module_version": "1.2.0",
      "_view_name": "LayoutView",
      "align_content": null,
      "align_items": null,
      "align_self": null,
      "border": null,
      "bottom": null,
      "display": null,
      "flex": null,
      "flex_flow": null,
      "grid_area": null,
      "grid_auto_columns": null,
      "grid_auto_flow": null,
      "grid_auto_rows": null,
      "grid_column": null,
      "grid_gap": null,
      "grid_row": null,
      "grid_template_areas": null,
      "grid_template_columns": null,
      "grid_template_rows": null,
      "height": null,
      "justify_content": null,
      "justify_items": null,
      "left": null,
      "margin": null,
      "max_height": null,
      "max_width": null,
      "min_height": null,
      "min_width": null,
      "object_fit": null,
      "object_position": null,
      "order": null,
      "overflow": null,
      "overflow_x": null,
      "overflow_y": null,
      "padding": null,
      "right": null,
      "top": null,
      "visibility": null,
      "width": null
     }
    },
    "c40f1c7f80004f31af3e6fdbf39b76f8": {
     "model_module": "@jupyter-widgets/controls",
     "model_module_version": "1.5.0",
     "model_name": "ProgressStyleModel",
     "state": {
      "_model_module": "@jupyter-widgets/controls",
      "_model_module_version": "1.5.0",
      "_model_name": "ProgressStyleModel",
      "_view_count": null,
      "_view_module": "@jupyter-widgets/base",
      "_view_module_version": "1.2.0",
      "_view_name": "StyleView",
      "bar_color": null,
      "description_width": ""
     }
    },
    "d464a10ef95047989150675e43f05d49": {
     "model_module": "@jupyter-widgets/controls",
     "model_module_version": "1.5.0",
     "model_name": "HBoxModel",
     "state": {
      "_dom_classes": [],
      "_model_module": "@jupyter-widgets/controls",
      "_model_module_version": "1.5.0",
      "_model_name": "HBoxModel",
      "_view_count": null,
      "_view_module": "@jupyter-widgets/controls",
      "_view_module_version": "1.5.0",
      "_view_name": "HBoxView",
      "box_style": "",
      "children": [
       "IPY_MODEL_70234afc7ba14baaba98f93e8a80200b",
       "IPY_MODEL_df3a69a52499444b91a9413e26377f7a",
       "IPY_MODEL_b3690103efc440fb9dce80ce816cd8e2"
      ],
      "layout": "IPY_MODEL_9cd0fb8afff84d2fb4516e5f6ac193d8"
     }
    },
    "df3a69a52499444b91a9413e26377f7a": {
     "model_module": "@jupyter-widgets/controls",
     "model_module_version": "1.5.0",
     "model_name": "FloatProgressModel",
     "state": {
      "_dom_classes": [],
      "_model_module": "@jupyter-widgets/controls",
      "_model_module_version": "1.5.0",
      "_model_name": "FloatProgressModel",
      "_view_count": null,
      "_view_module": "@jupyter-widgets/controls",
      "_view_module_version": "1.5.0",
      "_view_name": "ProgressView",
      "bar_style": "success",
      "description": "",
      "description_tooltip": null,
      "layout": "IPY_MODEL_c2bc487a951a477b82137589529cf721",
      "max": 28,
      "min": 0,
      "orientation": "horizontal",
      "style": "IPY_MODEL_c40f1c7f80004f31af3e6fdbf39b76f8",
      "value": 28
     }
    },
    "e50dfe400bfa421db3003fc4e89b84ef": {
     "model_module": "@jupyter-widgets/controls",
     "model_module_version": "1.5.0",
     "model_name": "DescriptionStyleModel",
     "state": {
      "_model_module": "@jupyter-widgets/controls",
      "_model_module_version": "1.5.0",
      "_model_name": "DescriptionStyleModel",
      "_view_count": null,
      "_view_module": "@jupyter-widgets/base",
      "_view_module_version": "1.2.0",
      "_view_name": "StyleView",
      "description_width": ""
     }
    }
   }
  }
 },
 "nbformat": 4,
 "nbformat_minor": 1
}
